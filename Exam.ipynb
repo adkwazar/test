{
 "cells": [
  {
   "cell_type": "markdown",
   "id": "a66cc8d6",
   "metadata": {},
   "source": [
    "## `Exercise 1`"
   ]
  },
  {
   "cell_type": "markdown",
   "id": "cb4c6821",
   "metadata": {},
   "source": [
    "- Read the train data"
   ]
  },
  {
   "cell_type": "code",
   "execution_count": 1,
   "id": "cd578f4a",
   "metadata": {},
   "outputs": [],
   "source": [
    "f = open(\"proteases.fa\", \"r\")\n",
    "names, sequences = [], [] #names and sequences\n",
    "for line in f:\n",
    "    if line.startswith(\">\"):\n",
    "        names.append(line[1:].replace(\"\\n\",\"\"))\n",
    "    else:\n",
    "        sequences.append(line.replace(\"\\n\",\"\"))"
   ]
  },
  {
   "cell_type": "code",
   "execution_count": 2,
   "id": "1492a5b0",
   "metadata": {},
   "outputs": [
    {
     "name": "stdout",
     "output_type": "stream",
     "text": [
      "['Q9AER6.t', 'P41363.t', 'P08594.t', 'P80146.t', 'P30199.m', 'Q8KH46.m', 'H2JJ14.m', 'MER0016986.m', 'F4HL71.h', 'Q5JIZ5.h', 'G0EFG7.h', 'B8D5T9.h', 'B8CU08.p', 'K4M7H8.p', 'Q480E3.p', 'Q8GB52.p']\n"
     ]
    }
   ],
   "source": [
    "print(names)"
   ]
  },
  {
   "cell_type": "code",
   "execution_count": 4,
   "id": "d89e71a0",
   "metadata": {},
   "outputs": [
    {
     "name": "stdout",
     "output_type": "stream",
     "text": [
      "MNIIPLFAFSKIAKEIYTLQKIDKRLLNKASYLRSECVPAILYSNLPYETLKSKIEKFGGSIKFEIPIIKGWSVNLPCDKLKHFASIKGIHFIAEDSLVKLQLHIATQEIASRKANDLGYTGKGITIAFLDTGIYPHPDFTKPKNRIIAFYDVVNGKKQPYDDNGHGTHVAGDAAGNGYASNGKYKGVAPEANIVAVKVLDSYGRGSSSDILAGMQWVLDNKEKYNIRIVSLSIGETPALPTFLDPLVRGVDTLWKNGIVVVVAAGNSGPNYNSITSPGTSRNAITVGAVDDKRTPDIEDDEVAKFSGRGGPYLYKPDVVAPGVKIVSTASGNVPFGADEIMINKPYRSATGTSMATPMVAGAVALLLEKNSRLTNVEIKNILKTTATKINEAGLWTQGSGMINIEEALKKV\n"
     ]
    }
   ],
   "source": [
    "print(sequences[0]) #the first sequnece"
   ]
  },
  {
   "cell_type": "markdown",
   "id": "20cf561c",
   "metadata": {},
   "source": [
    "- Where is the active site serine located?"
   ]
  },
  {
   "cell_type": "code",
   "execution_count": 5,
   "id": "413cb2cd",
   "metadata": {},
   "outputs": [],
   "source": [
    "proteins = ['Q9AER6.t', 'P41363.t', 'P08594.t', 'P80146.t', 'P30199.m', 'Q8KH46.m', 'H2JJ14.m', 'MER0016986.m', 'F4HL71.h', 'Q5JIZ5.h', 'G0EFG7.h', 'B8D5T9.h', 'B8CU08.p', 'K4M7H8.p', 'Q480E3.p', 'Q8GB52.p']\n",
    "S_positions = [354,307,349,356,402,359,386,394,348,382,350,343,452,314,498,359] #Position in the sequence; remember, if processed in Python, we should subtract 1 as indexing starts from 0."
   ]
  },
  {
   "cell_type": "code",
   "execution_count": 6,
   "id": "e32e6c5a",
   "metadata": {},
   "outputs": [
    {
     "name": "stdout",
     "output_type": "stream",
     "text": [
      "{'Q9AER6.t': 354, 'P41363.t': 307, 'P08594.t': 349, 'P80146.t': 356, 'P30199.m': 402, 'Q8KH46.m': 359, 'H2JJ14.m': 386, 'MER0016986.m': 394, 'F4HL71.h': 348, 'Q5JIZ5.h': 382, 'G0EFG7.h': 350, 'B8D5T9.h': 343, 'B8CU08.p': 452, 'K4M7H8.p': 314, 'Q480E3.p': 498, 'Q8GB52.p': 359}\n"
     ]
    }
   ],
   "source": [
    "print(dict(zip(proteins, S_positions)))"
   ]
  },
  {
   "cell_type": "markdown",
   "id": "8ae804ea",
   "metadata": {},
   "source": [
    "- Read the test data"
   ]
  },
  {
   "cell_type": "code",
   "execution_count": 7,
   "id": "1292ea76",
   "metadata": {},
   "outputs": [],
   "source": [
    "f = open(\"test.fa\", \"r\")\n",
    "names_test, sequences_test = [], [] #names and sequences\n",
    "for line in f:\n",
    "    if line.startswith(\">\"):\n",
    "        names_test.append(line[1:].replace(\"\\n\",\"\"))\n",
    "    else:\n",
    "        sequences_test.append(line.replace(\"\\n\",\"\"))"
   ]
  },
  {
   "cell_type": "code",
   "execution_count": 8,
   "id": "dc93378f",
   "metadata": {},
   "outputs": [
    {
     "name": "stdout",
     "output_type": "stream",
     "text": [
      "['s1', 's2', 's3']\n"
     ]
    }
   ],
   "source": [
    "print(names_test)"
   ]
  },
  {
   "cell_type": "code",
   "execution_count": 9,
   "id": "349bf09c",
   "metadata": {},
   "outputs": [
    {
     "name": "stdout",
     "output_type": "stream",
     "text": [
      "['MCIIPLFVFSKIAKEIYTTQKIDKRLLNKASYLRSECVGEAILYSNDLPYETLKSKIHKFGGSIKFEIPMIKGWSVNLPCDKLKHFASIKGIHAIAEDSWVTLQMHIMTQEIASRKPNDLGYTGSGITIATLDTGIPHPDFTKPKNRYIAFYDVVNGKKQPYDDNGHGGTHSAGDAAGNEYASNGKYKGVAPEANPVAVKVLDSYGRGDSSDILAGMQWVLDNKEKYSNIRVSLSMIGEHTPPLPTFLDPLVCGVDTLWKNGIVSVVVAAGNSGPNYNSITSPGTSRNAITVGAVDDKRTPDIEDDEVAHYGRGGPYLYKHDVVAPGVKIVSTRASGNVPFGADEIMINKPYRSAKGTSMATPMVAGAVALLHKNSRLTNVEIKNILKHTTATKLINEAGLWTQGSAMINIEEALKKP', 'MDRGGLWLLLGLLVLSACSRSNPPAASTQEAPLLGLECPFAIPGRYGTSMAENAGWVKPALEAEKAMLETGLMQPQGLQAHQALRTLGLEGARVDKVYTAALRGVAVWVPDQELARLRQDHRVAYIEADQEVRAFAGTSMATWGLDRNIDSLTLPLDGRYTYTATGAGVGHAYVVDTGQLLSHQEFTGRIGKGYDAITPGGSAQDCYGHGTHFAGTIGGTTKGVAKGVTLHPVRVLDCNGSVSNSSVIAGLDPVTQNHVKPAVINMSLGKGATSTALDTAVMNAINRGVTVVVAAGADNRDLCFYSPARVTAAITGAATTSTDYRASFINYGRCGDQFEPGQSITSAWYTSSTAQTNTISGTSMATWHVTGAAALYLQWYPTATPKQVASALLYYAPNVKLAGRYCSPNLKLYTPF', 'MKKFGCVVLALFLVNLMAGSVLAAPQKQPAVRNVSMVKNYGLLTPGLFKKVQRMSWDQEVSTIIMFDQRNQADKEKAVEILDFLGAKIKYNYHIIPALAVKIKVKDLLIIAGLMDTGYFGNAQLSGVQFIQEDYVVKVAVRTPEGLDASAAQVMRTNMWNLGYDGSGITIGIMDTGIDIASHPDLQIKVIGWVDFVNGKTSPYDDNGHGTHVASRAAGTGAAANGKYKGMAPGAKLVDIGVLNGQGSGSISDIINGVDWAVQNKDYGGIKVIALLGSSQSSDGWDSLSQAVNNAWDAGLVVVVAAGASGPNKYDVGSPAAASKVITVGAVDKYDVITDCSSRGPTADNRLKPEVVAPGNWIIAARASGTSMGQPINDYYTAAPGTSCATPHVAGIAALLLQADPSWTPDKVQTALIETADIVKQDEIADIAYGAGRVNCTKAAYYDYNAAKLPKTGYVSNKGSQSHQFTISGAGFVTATLYWDNSGSDLDLYLYKDPNGNQVDYSYTAYYGFEKVGYYNPCAGTWTIKVVSYSGSANYQVDVVSDGSLGQPSGGGSEPSPSPSPEPTVDEKYFTLTVHDYYDKSMTFTMTVNSGATKITGDLYFDTSYHDLDLYLYDPNQNLVDRSLSSNSYEHVEYNNPAPGTWYFLVYAYDTYGYADYQLDQAKVYY']\n"
     ]
    }
   ],
   "source": [
    "print(sequences_test)"
   ]
  },
  {
   "cell_type": "code",
   "execution_count": 23,
   "id": "286c5dd3",
   "metadata": {},
   "outputs": [],
   "source": [
    "#YOUR CODE\n",
    "#\n",
    "#\n",
    "#\n",
    "#\n",
    "#\n",
    "#\n",
    "#\n",
    "#\n",
    "#"
   ]
  },
  {
   "cell_type": "markdown",
   "id": "57998cd0",
   "metadata": {},
   "source": [
    "- Supplementary information (optionally, you may use it in your analysis)"
   ]
  },
  {
   "cell_type": "code",
   "execution_count": 32,
   "id": "dc32f01c",
   "metadata": {},
   "outputs": [],
   "source": [
    "properties = {\n",
    "    'A': {'polarity': 'nonpolar', 'charge': 'neutral', 'size': 'small'},\n",
    "    'R': {'polarity': 'polar', 'charge': 'positive', 'size': 'large'},\n",
    "    'N': {'polarity': 'polar', 'charge': 'neutral', 'size': 'medium'},\n",
    "    'D': {'polarity': 'polar', 'charge': 'negative', 'size': 'small'},\n",
    "    'C': {'polarity': 'nonpolar', 'charge': 'neutral', 'size': 'small'},\n",
    "    'Q': {'polarity': 'polar', 'charge': 'neutral', 'size': 'medium'},\n",
    "    'E': {'polarity': 'polar', 'charge': 'negative', 'size': 'medium'},\n",
    "    'G': {'polarity': 'nonpolar', 'charge': 'neutral', 'size': 'small'},\n",
    "    'H': {'polarity': 'polar', 'charge': 'positive', 'size': 'medium'},\n",
    "    'I': {'polarity': 'nonpolar', 'charge': 'neutral', 'size': 'large'},\n",
    "    'L': {'polarity': 'nonpolar', 'charge': 'neutral', 'size': 'large'},\n",
    "    'K': {'polarity': 'polar', 'charge': 'positive', 'size': 'large'},\n",
    "    'M': {'polarity': 'nonpolar', 'charge': 'neutral', 'size': 'large'},\n",
    "    'F': {'polarity': 'nonpolar', 'charge': 'neutral', 'size': 'large'},\n",
    "    'P': {'polarity': 'nonpolar', 'charge': 'neutral', 'size': 'medium'},\n",
    "    'S': {'polarity': 'polar', 'charge': 'neutral', 'size': 'small'},\n",
    "    'T': {'polarity': 'polar', 'charge': 'neutral', 'size': 'medium'},\n",
    "    'W': {'polarity': 'nonpolar', 'charge': 'neutral', 'size': 'large'},\n",
    "    'Y': {'polarity': 'polar', 'charge': 'neutral', 'size': 'large'},\n",
    "    'V': {'polarity': 'nonpolar', 'charge': 'neutral', 'size': 'medium'}\n",
    "}"
   ]
  },
  {
   "cell_type": "markdown",
   "id": "f485edc4",
   "metadata": {},
   "source": [
    "## `Exercise 2`"
   ]
  },
  {
   "cell_type": "markdown",
   "id": "6a6acc65",
   "metadata": {},
   "source": [
    "- Read the train data"
   ]
  },
  {
   "cell_type": "code",
   "execution_count": 48,
   "id": "d553b007",
   "metadata": {
    "scrolled": true
   },
   "outputs": [
    {
     "name": "stdout",
     "output_type": "stream",
     "text": [
      "       F1    F2     F3     F4     F5     F6    F7    F8     F9   F10 group\n",
      "0   -0.24  0.99   2.64   7.01 -13.23   3.82  0.39 -1.58  -8.07 -6.64     1\n",
      "1   -4.16  9.50  -6.87  10.72 -16.18  -1.34 -2.19 -1.89  -6.21 -7.94     ?\n",
      "2   -4.53 -0.34  -4.59   7.88  -8.89  -0.15 -0.62  4.22  -8.49 -5.23     ?\n",
      "3   -4.18  7.42  -4.36   7.54  -9.51   5.00  0.72  3.19 -14.21 -4.63     1\n",
      "4    0.68  0.76  -2.64   6.17  -9.67   1.23 -1.36 -3.31  -7.58 -8.66     ?\n",
      "..    ...   ...    ...    ...    ...    ...   ...   ...    ...   ...   ...\n",
      "995  2.69  2.35 -12.76  -5.45  -4.45 -12.81 -2.93 -5.32  -4.45 -2.41     ?\n",
      "996 -3.58  6.04  -4.47   8.68  -6.74   3.07 -0.64 -1.21  -9.08 -5.11     ?\n",
      "997 -1.58  7.90  -8.41  -1.59  -8.18  -4.83 -8.85 -1.90  -4.35 -0.47     ?\n",
      "998 -1.47  5.77 -11.69  -5.86  -5.21  -5.79 -2.92 -3.80  -8.26  2.03     ?\n",
      "999 -6.86  8.99 -10.73  -7.40  -6.80 -11.20 -6.12 -1.79  -5.23  2.81     ?\n",
      "\n",
      "[1000 rows x 11 columns]\n"
     ]
    }
   ],
   "source": [
    "import pandas as pd\n",
    "\n",
    "df = pd.read_csv(\"data2_train.txt\", sep = \" \")\n",
    "print(df)"
   ]
  },
  {
   "cell_type": "markdown",
   "id": "7b61f022",
   "metadata": {},
   "source": [
    "- Read the test data"
   ]
  },
  {
   "cell_type": "code",
   "execution_count": 49,
   "id": "0a70d7cf",
   "metadata": {},
   "outputs": [
    {
     "name": "stdout",
     "output_type": "stream",
     "text": [
      "     F1    F2     F3     F4     F5     F6    F7    F8     F9   F10\n",
      "0 -0.82  5.49  -8.42  -4.20 -10.69  -7.64 -4.47 -6.48  -4.39  3.66\n",
      "1 -0.64  4.59 -10.82  -3.85  -8.55  -6.48 -7.35 -0.15  -1.10  2.20\n",
      "2 -1.66  4.33  -5.84   7.00 -13.04   8.09 -3.62 -2.90  -7.64 -8.86\n",
      "3 -3.31  3.25  -4.69   6.33 -10.26   4.33  1.12  1.08  -6.82 -8.38\n",
      "4 -4.20  2.51  -7.02   6.11  -7.48   2.50  1.50 -2.75  -6.05 -3.69\n",
      "5  0.97  6.35 -10.93  -8.93  -5.70  -5.40 -4.79 -3.72  -5.50  0.54\n",
      "6 -1.68  5.67  -6.82   3.76  -8.28   2.98 -2.05  1.00  -6.56 -6.05\n",
      "7 -4.23  4.76  -7.38  12.51  -9.32   1.74  0.83  0.77 -10.15 -4.05\n",
      "8 -0.95  4.00  -7.88  -0.35  -4.82 -10.75 -4.46 -4.48   2.13  1.92\n",
      "9 -0.12  3.99  -4.67   7.58 -12.84   1.25 -0.10 -0.94  -5.05 -5.54\n"
     ]
    }
   ],
   "source": [
    "df_test = pd.read_csv(\"data2_test.txt\", sep = \" \")\n",
    "print(df_test)"
   ]
  },
  {
   "cell_type": "code",
   "execution_count": 51,
   "id": "26da9e0f",
   "metadata": {},
   "outputs": [],
   "source": [
    "#YOUR CODE\n",
    "#\n",
    "#\n",
    "#\n",
    "#\n",
    "#\n",
    "#\n",
    "#\n",
    "#\n",
    "#"
   ]
  }
 ],
 "metadata": {
  "kernelspec": {
   "display_name": "Python 3 (ipykernel)",
   "language": "python",
   "name": "python3"
  },
  "language_info": {
   "codemirror_mode": {
    "name": "ipython",
    "version": 3
   },
   "file_extension": ".py",
   "mimetype": "text/x-python",
   "name": "python",
   "nbconvert_exporter": "python",
   "pygments_lexer": "ipython3",
   "version": "3.11.5"
  }
 },
 "nbformat": 4,
 "nbformat_minor": 5
}
